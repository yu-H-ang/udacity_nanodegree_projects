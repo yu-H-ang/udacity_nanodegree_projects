{
 "cells": [
  {
   "cell_type": "markdown",
   "metadata": {},
   "source": [
    "# Implement a Basic Driving Agent"
   ]
  },
  {
   "cell_type": "markdown",
   "metadata": {},
   "source": [
    "When the agent's actions are chosen purely by random from a set of possible actions  ```[None, 'forward', 'left', 'right']``` , it does eventually reach it given unlimited time. However, this is just a matter of chance, and it can take a really long time for the agent to reach its destination."
   ]
  },
  {
   "cell_type": "markdown",
   "metadata": {},
   "source": [
    "# Inform the Driving Agent"
   ]
  },
  {
   "cell_type": "markdown",
   "metadata": {},
   "source": [
    "Our ```LearningAgent``` is given the following information at each intersection:\n",
    "\n",
    "* ```self.next_waypoint```: The next waypoint location relative to its current location and heading.\n",
    "* ```inputs```: The state of the traffic light at the intersection and the presence of oncoming vehicles from other directions.\n",
    "* ```deadline```: The current time left from the allotted deadline.\n",
    "\n",
    "However, we should not use all of them to build our agent state because that will make the state space too large thus our smartcab would need a very long time to learn. We must discard some of the above informations. \n",
    "Out of all the informations provided, I choose to ignore two of them.\n",
    "\n",
    "* Deadline: Since the variable deadline has so many differetn values, including it to build agent states would make the state space enormous and make the learning really slow. Even though it holds some value(we want the agent to reach destination as soon as possible), considering we need to let the agent learn sufficently within 100 trials, deadline is ignored in my model.\n",
    "\n",
    "* Traffic to the right: This doesn't affect how the smartcab excutes its action in all three different scenarios. (1)If traffic to the right is empty, clearly there is nothing to worry about. (2)If traffic to the right is proceeding straight or turning left, its traffic light must be green and therefore the light for the learning agent must be red. That means the smartcab can only turn right, then they won't interfere each other. (3)If traffic to the right is turning right, again the traffic doesn't affect our cab's action.\n",
    "\n",
    "Then we build our model using following variables.\n",
    "\n",
    "### State variables\n",
    "\n",
    "* The state of the traffic light: ```['green', 'red']```\n",
    "* Oncoming traffic: ```[None, 'forward', 'left', 'right']```\n",
    "* Traffic to the left: ```[None, 'forward', 'left', 'right']```\n",
    "* Direction of next waypoint: ```[None, 'forward', 'left', 'right']```\n",
    "\n",
    "So there are 128 states in total for our smartcab to learn in this environment. The deadlines in different trials could be from 20 to 50. Since we plan to run 100 trials, even though the smartcab reaches the destination before the deadline, the smartcab can at least learn over 1000 times. The state space is reasonable and the smartcab should be able to learn and make informed decisions about each state."
   ]
  },
  {
   "cell_type": "markdown",
   "metadata": {},
   "source": [
    "# Implement a Q-Learning Driving Agent"
   ]
  },
  {
   "cell_type": "code",
   "execution_count": null,
   "metadata": {
    "collapsed": true
   },
   "outputs": [],
   "source": []
  }
 ],
 "metadata": {
  "kernelspec": {
   "display_name": "Python 2",
   "language": "python",
   "name": "python2"
  },
  "language_info": {
   "codemirror_mode": {
    "name": "ipython",
    "version": 2
   },
   "file_extension": ".py",
   "mimetype": "text/x-python",
   "name": "python",
   "nbconvert_exporter": "python",
   "pygments_lexer": "ipython2",
   "version": "2.7.12"
  }
 },
 "nbformat": 4,
 "nbformat_minor": 0
}
